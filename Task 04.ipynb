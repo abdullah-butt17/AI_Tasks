{
 "cells": [
  {
   "cell_type": "code",
   "execution_count": 2,
   "metadata": {},
   "outputs": [
    {
     "name": "stdout",
     "output_type": "stream",
     "text": [
      "Card is INVALID\n"
     ]
    }
   ],
   "source": [
    "def validity(input):\n",
    "    input = input[::-1]\n",
    "\n",
    "    input = [int(x) for x in input]\n",
    "\n",
    "    for i in range(1, len(input), 2):\n",
    "        input[i] *= 2 \n",
    "\n",
    "        if input[i] > 9:\n",
    "            input[i] -= 9\n",
    "    total = sum(input)\n",
    "\n",
    "    if total % 10 == 0:\n",
    "        print('Card is VALID')\n",
    "    else:\n",
    "        print('Card is INVALID')       \n",
    "\n",
    "validity('9588297358405441')"
   ]
  },
  {
   "cell_type": "code",
   "execution_count": 17,
   "metadata": {},
   "outputs": [
    {
     "name": "stdout",
     "output_type": "stream",
     "text": [
      "Original:  Hey! My name is Abdullah.\n",
      "Cleaned Text is: Hey My name is Abdullah\n"
     ]
    }
   ],
   "source": [
    "def remove_punctuation(input_text):\n",
    "    punctuation_marks = '''!()-[]{};:'\\\",<>./?@#$%^&*_~'''\n",
    "    clean_text = ''\n",
    "\n",
    "    for character in input_text:\n",
    "        if character not in punctuation_marks:\n",
    "            clean_text += character\n",
    "\n",
    "    return clean_text\n",
    "\n",
    "input_text = \"Hey! My name is Abdullah.\"\n",
    "cleaned_text = remove_punctuation(input_text)\n",
    "print(\"Original: \",input_text)\n",
    "print(\"Cleaned Text is:\",cleaned_text)\n"
   ]
  },
  {
   "cell_type": "code",
   "execution_count": 14,
   "metadata": {},
   "outputs": [
    {
     "name": "stdout",
     "output_type": "stream",
     "text": [
      "Original Sentence: HOW ARE YOU\n",
      "Sorted Sentence: ARE HOW YOU\n"
     ]
    }
   ],
   "source": [
    "def sort_sentence(input_sentence):\n",
    "    word_list = input_sentence.split(' ')\n",
    "    word_list.sort()\n",
    "    sorted_sentence = ' '.join(word_list)\n",
    "    return sorted_sentence\n",
    "\n",
    "input_sentence = \"HOW ARE YOU\"\n",
    "sorted_result = sort_sentence(input_sentence)\n",
    "print(\"Original Sentence:\", input_sentence)\n",
    "print(\"Sorted Sentence:\", sorted_result)\n"
   ]
  },
  {
   "cell_type": "code",
   "execution_count": null,
   "metadata": {},
   "outputs": [],
   "source": []
  }
 ],
 "metadata": {
  "kernelspec": {
   "display_name": "Python 3",
   "language": "python",
   "name": "python3"
  },
  "language_info": {
   "codemirror_mode": {
    "name": "ipython",
    "version": 3
   },
   "file_extension": ".py",
   "mimetype": "text/x-python",
   "name": "python",
   "nbconvert_exporter": "python",
   "pygments_lexer": "ipython3",
   "version": "3.12.2"
  }
 },
 "nbformat": 4,
 "nbformat_minor": 2
}
