{
 "cells": [
  {
   "cell_type": "code",
   "execution_count": 1,
   "metadata": {},
   "outputs": [
    {
     "name": "stdout",
     "output_type": "stream",
     "text": [
      "---Turn The AC on---\n",
      "---The Temperature is Normal---\n",
      "---Heater On---\n"
     ]
    }
   ],
   "source": [
    "class Heater:\n",
    "    def __init__(self, desired_temp):\n",
    "        self.desired_temp = desired_temp\n",
    "        self.previous_action = None\n",
    "\n",
    "    def perceive(self, current_temp):\n",
    "        self.current_temp = current_temp\n",
    "\n",
    "    def check_temp(self):\n",
    "        if self.current_temp == self.desired_temp:\n",
    "            if self.previous_action != 'Normal':\n",
    "                print(\"---The Temperature is Normal---\")\n",
    "                self.previous_action = 'Normal'\n",
    "        elif self.current_temp < self.desired_temp:\n",
    "            if self.previous_action != 'Heater On':\n",
    "                print(\"---Heater On---\")\n",
    "                self.previous_action = 'Heater On'\n",
    "        else:\n",
    "            if self.previous_action != 'AC On':\n",
    "                print(\"---Turn The AC on---\")\n",
    "                self.previous_action = 'AC On'\n",
    "\n",
    "obj2 = Heater(18)\n",
    "obj2.perceive(27)\n",
    "obj2.check_temp()\n",
    "\n",
    "obj2.perceive(18)\n",
    "obj2.check_temp()\n",
    "\n",
    "obj2.perceive(15)\n",
    "obj2.check_temp()\n"
   ]
  },
  {
   "cell_type": "code",
   "execution_count": null,
   "metadata": {},
   "outputs": [],
   "source": []
  }
 ],
 "metadata": {
  "kernelspec": {
   "display_name": "Python 3",
   "language": "python",
   "name": "python3"
  },
  "language_info": {
   "codemirror_mode": {
    "name": "ipython",
    "version": 3
   },
   "file_extension": ".py",
   "mimetype": "text/x-python",
   "name": "python",
   "nbconvert_exporter": "python",
   "pygments_lexer": "ipython3",
   "version": "3.12.2"
  }
 },
 "nbformat": 4,
 "nbformat_minor": 2
}
