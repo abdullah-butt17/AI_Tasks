{
 "cells": [
  {
   "cell_type": "code",
   "execution_count": 1,
   "metadata": {},
   "outputs": [
    {
     "name": "stdout",
     "output_type": "stream",
     "text": [
      "2\n"
     ]
    }
   ],
   "source": [
    "import math\n",
    "\n",
    "def MinMaxAlgo(currNode, nodeIndex, maxTurn, leafNodes, nodeDepth):\n",
    "    if (currNode == nodeDepth):\n",
    "        return leafNodes[nodeIndex]\n",
    "    \n",
    "    if (maxTurn):\n",
    "        return max(MinMaxAlgo(currNode+1,nodeIndex*2,False,leafNodes,nodeDepth),\n",
    "                   MinMaxAlgo(currNode+1,nodeIndex*2 + 1,False,leafNodes,nodeDepth))\n",
    "    \n",
    "    else:\n",
    "        return min(MinMaxAlgo(currNode+1,nodeIndex*2,True,leafNodes,nodeDepth),\n",
    "                   MinMaxAlgo(currNode+1,nodeIndex*2 + 1,True,leafNodes,nodeDepth))\n",
    "    \n",
    "\n",
    "leafNodes=[3,1,5,2,4,0]\n",
    "nodeDepth=int(math.log(len(leafNodes),2))\n",
    "print(MinMaxAlgo(0,0,True,leafNodes,nodeDepth))"
   ]
  },
  {
   "cell_type": "code",
   "execution_count": null,
   "metadata": {},
   "outputs": [],
   "source": []
  }
 ],
 "metadata": {
  "kernelspec": {
   "display_name": "Python 3",
   "language": "python",
   "name": "python3"
  },
  "language_info": {
   "codemirror_mode": {
    "name": "ipython",
    "version": 3
   },
   "file_extension": ".py",
   "mimetype": "text/x-python",
   "name": "python",
   "nbconvert_exporter": "python",
   "pygments_lexer": "ipython3",
   "version": "3.12.2"
  }
 },
 "nbformat": 4,
 "nbformat_minor": 2
}
