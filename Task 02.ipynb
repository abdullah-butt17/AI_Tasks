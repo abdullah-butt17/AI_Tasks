{
 "cells": [
  {
   "cell_type": "code",
   "execution_count": 2,
   "metadata": {},
   "outputs": [
    {
     "name": "stdout",
     "output_type": "stream",
     "text": [
      "1\n",
      "2\n",
      "Fizz\n",
      "4\n",
      "Buzz\n",
      "Fizz\n",
      "7\n",
      "8\n",
      "Fizz\n",
      "Buzz\n",
      "11\n",
      "Fizz\n",
      "13\n",
      "14\n",
      "Fizz Buzz\n",
      "16\n",
      "17\n",
      "Fizz\n",
      "19\n",
      "Buzz\n",
      "Fizz\n",
      "22\n",
      "23\n",
      "Fizz\n",
      "Buzz\n",
      "26\n",
      "Fizz\n",
      "28\n",
      "29\n",
      "Fizz Buzz\n"
     ]
    }
   ],
   "source": [
    "for num in range(1,31):\n",
    "    if num % 3 == 0 and num % 5 == 0:\n",
    "        print(\"Fizz Buzz\")\n",
    "    elif num % 3 == 0:\n",
    "        print(\"Fizz\")\n",
    "    elif num % 5 == 0:\n",
    "        print(\"Buzz\")\n",
    "    else:\n",
    "        print(num"
   ]
  },
  {
   "cell_type": "code",
   "execution_count": 4,
   "metadata": {},
   "outputs": [
    {
     "name": "stdout",
     "output_type": "stream",
     "text": [
      "Movie 'Extraction' with budget 4500$ added successfully!\n",
      "total: 41000$, average: 5125.0$\n",
      "\n",
      "\n",
      "Pirates of the Caribbean: On Stranger Tides above average budget by 875.0$\n",
      "Avengers: Age of Ultron above average budget by 4875.0$\n",
      "Avengers: Endgame above average budget by 4875.0$\n",
      "total number of movies above budget: 3\n"
     ]
    }
   ],
   "source": [
    "movies = [\n",
    "(\"Eternal Sunshine of the Spotless Mind\", 5000),\n",
    "(\"Memento\", 1000),\n",
    "(\"Requiem for a Dream\", 2500),\n",
    "(\"Pirates of the Caribbean: On Stranger Tides\", 6000),\n",
    "(\"Avengers: Age of Ultron\", 10000),\n",
    "(\"Avengers: Endgame\", 10000),\n",
    "(\"Incredibles 2\", 2000)\n",
    "]\n",
    "\n",
    "def add():\n",
    "    num = int(input('enter the number of movies you want to enter: '))\n",
    "    for i in range(num):\n",
    "        movie = input('enter the name of the movie: ')\n",
    "        budget = int(input('enter the budget of the movie: '))\n",
    "        movies.append((movie, budget))\n",
    "        print(f\"Movie '{movie}' with budget {budget}$ added successfully!\")\n",
    "\n",
    "add()   \n",
    "\n",
    "total = 0 \n",
    "for movie, budget in movies:\n",
    "     total += budget \n",
    "     average = total/ len(movies)\n",
    "print(f'total: {total}$, average: {average}$')\n",
    "\n",
    "print('\\n')\n",
    "\n",
    "count = 0\n",
    "for movie, budget in movies:\n",
    "     if budget > average:\n",
    "        difference = budget - average \n",
    "        count += 1\n",
    "        print(f'{movie} above average budget by {difference}$')\n",
    "print(f'total number of movies above budget: {count}') \n",
    "\n",
    "\n"
   ]
  },
  {
   "cell_type": "code",
   "execution_count": null,
   "metadata": {},
   "outputs": [],
   "source": []
  }
 ],
 "metadata": {
  "kernelspec": {
   "display_name": "Python 3",
   "language": "python",
   "name": "python3"
  },
  "language_info": {
   "codemirror_mode": {
    "name": "ipython",
    "version": 3
   },
   "file_extension": ".py",
   "mimetype": "text/x-python",
   "name": "python",
   "nbconvert_exporter": "python",
   "pygments_lexer": "ipython3",
   "version": "3.12.2"
  }
 },
 "nbformat": 4,
 "nbformat_minor": 2
}
