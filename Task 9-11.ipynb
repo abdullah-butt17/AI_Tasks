{
 "cells": [
  {
   "cell_type": "code",
   "execution_count": 1,
   "id": "e383edd2",
   "metadata": {},
   "outputs": [],
   "source": [
    "import pandas as pd\n",
    "import numpy as np\n",
    "from sklearn.preprocessing import LabelEncoder\n",
    "from sklearn.model_selection import train_test_split"
   ]
  },
  {
   "cell_type": "code",
   "execution_count": 2,
   "id": "294119c7",
   "metadata": {},
   "outputs": [
    {
     "data": {
      "text/plain": [
       "array(['Single Cylinder', 'Inline-4', 'V-Twin', 'Twin Cylinder',\n",
       "       'Parallel Twin'], dtype=object)"
      ]
     },
     "execution_count": 2,
     "metadata": {},
     "output_type": "execute_result"
    }
   ],
   "source": [
    "df=pd.read_csv('data.csv')\n",
    "df.head()\n",
    "\n",
    "df['Engine Type'].unique()\n",
    "# df[\"Stroke\"].unique()\n",
    "# df['Fuel Capacity (L)'].unique()"
   ]
  },
  {
   "cell_type": "code",
   "execution_count": 3,
   "id": "66ff620a",
   "metadata": {},
   "outputs": [
    {
     "name": "stdout",
     "output_type": "stream",
     "text": [
      "<class 'pandas.core.frame.DataFrame'>\n",
      "RangeIndex: 1002 entries, 0 to 1001\n",
      "Data columns (total 10 columns):\n",
      " #   Column             Non-Null Count  Dtype  \n",
      "---  ------             --------------  -----  \n",
      " 0   City in            1001 non-null   object \n",
      " 1   Kilometers ran     998 non-null    float64\n",
      " 2   Bike Prices        1000 non-null   float64\n",
      " 3   Engine Type        1002 non-null   object \n",
      " 4   Stroke             1001 non-null   object \n",
      " 5   Transmission Type  1002 non-null   object \n",
      " 6   Fuel Capacity (L)  997 non-null    float64\n",
      " 7   Cooling System     1002 non-null   object \n",
      " 8   Bike names         1002 non-null   object \n",
      " 9   Model Year         1001 non-null   float64\n",
      "dtypes: float64(4), object(6)\n",
      "memory usage: 78.4+ KB\n"
     ]
    }
   ],
   "source": [
    "df.info()"
   ]
  },
  {
   "cell_type": "code",
   "execution_count": 4,
   "id": "c7b32e79",
   "metadata": {},
   "outputs": [
    {
     "data": {
      "application/vnd.microsoft.datawrangler.viewer.v0+json": {
       "columns": [
        {
         "name": "index",
         "rawType": "int64",
         "type": "integer"
        },
        {
         "name": "City in",
         "rawType": "object",
         "type": "string"
        },
        {
         "name": "Kilometers ran",
         "rawType": "float64",
         "type": "float"
        },
        {
         "name": "Bike Prices",
         "rawType": "float64",
         "type": "float"
        },
        {
         "name": "Engine Type",
         "rawType": "object",
         "type": "string"
        },
        {
         "name": "Stroke",
         "rawType": "object",
         "type": "string"
        },
        {
         "name": "Transmission Type",
         "rawType": "object",
         "type": "string"
        },
        {
         "name": "Fuel Capacity (L)",
         "rawType": "float64",
         "type": "float"
        },
        {
         "name": "Cooling System",
         "rawType": "object",
         "type": "string"
        },
        {
         "name": "Bike names",
         "rawType": "object",
         "type": "string"
        },
        {
         "name": "Model Year",
         "rawType": "float64",
         "type": "float"
        }
       ],
       "conversionMethod": "pd.DataFrame",
       "ref": "d71d654a-ac03-4249-a215-0039c7f7ef2a",
       "rows": [
        [
         "0",
         "Karachi",
         "10500.0",
         "5000000.0",
         "Single Cylinder",
         "2-stroke",
         "Manual",
         "14.0",
         "Liquid-cooled",
         "Honda CB 150F",
         "2016.0"
        ],
        [
         "1",
         "Karachi",
         "20000.0",
         "400000.0",
         "Inline-4",
         "4-stroke",
         "Automatic",
         "12.0",
         "Oil-cooled",
         "Yamaha MT-15",
         "2006.0"
        ],
        [
         "2",
         "Karachi",
         "12000.0",
         "899000.0",
         "Single Cylinder",
         "4-stroke",
         "Automatic",
         "19.0",
         "Air-cooled",
         "Kawasaki Ninja 300",
         "2019.0"
        ],
        [
         "3",
         "Karachi",
         "6400.0",
         "9500000.0",
         "V-Twin",
         "4-stroke",
         "Automatic",
         "15.0",
         "Oil-cooled",
         "Suzuki GSX-R600",
         "2019.0"
        ],
        [
         "4",
         "Karachi",
         "8000.0",
         "422000.0",
         "V-Twin",
         "2-stroke",
         "Manual",
         "12.0",
         "Oil-cooled",
         "United US 125",
         "2022.0"
        ],
        [
         "5",
         "Karachi",
         "11000.0",
         "5000000.0",
         "Inline-4",
         "4-stroke",
         "Manual",
         "19.0",
         "Air-cooled",
         "Honda CB 150F",
         "2017.0"
        ],
        [
         "6",
         "Karachi",
         "24000.0",
         "2850000.0",
         "Twin Cylinder",
         "4-stroke",
         "Automatic",
         "12.0",
         "Air-cooled",
         "Yamaha MT-15",
         "2011.0"
        ],
        [
         "7",
         "Karachi",
         "20000.0",
         "220000.0",
         "Single Cylinder",
         "4-stroke",
         "Automatic",
         "8.0",
         "Oil-cooled",
         "Kawasaki Ninja 300",
         "2016.0"
        ],
        [
         "8",
         "Karachi",
         "4000.0",
         "650000.0",
         "Inline-4",
         "2-stroke",
         "Manual",
         "9.0",
         "Oil-cooled",
         "Suzuki GSX-R600",
         "2020.0"
        ],
        [
         "9",
         "Karachi",
         "42000.0",
         "245000.0",
         "Single Cylinder",
         "2-stroke",
         "Manual",
         "19.0",
         "Liquid-cooled",
         "United US 125",
         "2019.0"
        ]
       ],
       "shape": {
        "columns": 10,
        "rows": 10
       }
      },
      "text/html": [
       "<div>\n",
       "<style scoped>\n",
       "    .dataframe tbody tr th:only-of-type {\n",
       "        vertical-align: middle;\n",
       "    }\n",
       "\n",
       "    .dataframe tbody tr th {\n",
       "        vertical-align: top;\n",
       "    }\n",
       "\n",
       "    .dataframe thead th {\n",
       "        text-align: right;\n",
       "    }\n",
       "</style>\n",
       "<table border=\"1\" class=\"dataframe\">\n",
       "  <thead>\n",
       "    <tr style=\"text-align: right;\">\n",
       "      <th></th>\n",
       "      <th>City in</th>\n",
       "      <th>Kilometers ran</th>\n",
       "      <th>Bike Prices</th>\n",
       "      <th>Engine Type</th>\n",
       "      <th>Stroke</th>\n",
       "      <th>Transmission Type</th>\n",
       "      <th>Fuel Capacity (L)</th>\n",
       "      <th>Cooling System</th>\n",
       "      <th>Bike names</th>\n",
       "      <th>Model Year</th>\n",
       "    </tr>\n",
       "  </thead>\n",
       "  <tbody>\n",
       "    <tr>\n",
       "      <th>0</th>\n",
       "      <td>Karachi</td>\n",
       "      <td>10500.0</td>\n",
       "      <td>5000000.0</td>\n",
       "      <td>Single Cylinder</td>\n",
       "      <td>2-stroke</td>\n",
       "      <td>Manual</td>\n",
       "      <td>14.0</td>\n",
       "      <td>Liquid-cooled</td>\n",
       "      <td>Honda CB 150F</td>\n",
       "      <td>2016.0</td>\n",
       "    </tr>\n",
       "    <tr>\n",
       "      <th>1</th>\n",
       "      <td>Karachi</td>\n",
       "      <td>20000.0</td>\n",
       "      <td>400000.0</td>\n",
       "      <td>Inline-4</td>\n",
       "      <td>4-stroke</td>\n",
       "      <td>Automatic</td>\n",
       "      <td>12.0</td>\n",
       "      <td>Oil-cooled</td>\n",
       "      <td>Yamaha MT-15</td>\n",
       "      <td>2006.0</td>\n",
       "    </tr>\n",
       "    <tr>\n",
       "      <th>2</th>\n",
       "      <td>Karachi</td>\n",
       "      <td>12000.0</td>\n",
       "      <td>899000.0</td>\n",
       "      <td>Single Cylinder</td>\n",
       "      <td>4-stroke</td>\n",
       "      <td>Automatic</td>\n",
       "      <td>19.0</td>\n",
       "      <td>Air-cooled</td>\n",
       "      <td>Kawasaki Ninja 300</td>\n",
       "      <td>2019.0</td>\n",
       "    </tr>\n",
       "    <tr>\n",
       "      <th>3</th>\n",
       "      <td>Karachi</td>\n",
       "      <td>6400.0</td>\n",
       "      <td>9500000.0</td>\n",
       "      <td>V-Twin</td>\n",
       "      <td>4-stroke</td>\n",
       "      <td>Automatic</td>\n",
       "      <td>15.0</td>\n",
       "      <td>Oil-cooled</td>\n",
       "      <td>Suzuki GSX-R600</td>\n",
       "      <td>2019.0</td>\n",
       "    </tr>\n",
       "    <tr>\n",
       "      <th>4</th>\n",
       "      <td>Karachi</td>\n",
       "      <td>8000.0</td>\n",
       "      <td>422000.0</td>\n",
       "      <td>V-Twin</td>\n",
       "      <td>2-stroke</td>\n",
       "      <td>Manual</td>\n",
       "      <td>12.0</td>\n",
       "      <td>Oil-cooled</td>\n",
       "      <td>United US 125</td>\n",
       "      <td>2022.0</td>\n",
       "    </tr>\n",
       "    <tr>\n",
       "      <th>5</th>\n",
       "      <td>Karachi</td>\n",
       "      <td>11000.0</td>\n",
       "      <td>5000000.0</td>\n",
       "      <td>Inline-4</td>\n",
       "      <td>4-stroke</td>\n",
       "      <td>Manual</td>\n",
       "      <td>19.0</td>\n",
       "      <td>Air-cooled</td>\n",
       "      <td>Honda CB 150F</td>\n",
       "      <td>2017.0</td>\n",
       "    </tr>\n",
       "    <tr>\n",
       "      <th>6</th>\n",
       "      <td>Karachi</td>\n",
       "      <td>24000.0</td>\n",
       "      <td>2850000.0</td>\n",
       "      <td>Twin Cylinder</td>\n",
       "      <td>4-stroke</td>\n",
       "      <td>Automatic</td>\n",
       "      <td>12.0</td>\n",
       "      <td>Air-cooled</td>\n",
       "      <td>Yamaha MT-15</td>\n",
       "      <td>2011.0</td>\n",
       "    </tr>\n",
       "    <tr>\n",
       "      <th>7</th>\n",
       "      <td>Karachi</td>\n",
       "      <td>20000.0</td>\n",
       "      <td>220000.0</td>\n",
       "      <td>Single Cylinder</td>\n",
       "      <td>4-stroke</td>\n",
       "      <td>Automatic</td>\n",
       "      <td>8.0</td>\n",
       "      <td>Oil-cooled</td>\n",
       "      <td>Kawasaki Ninja 300</td>\n",
       "      <td>2016.0</td>\n",
       "    </tr>\n",
       "    <tr>\n",
       "      <th>8</th>\n",
       "      <td>Karachi</td>\n",
       "      <td>4000.0</td>\n",
       "      <td>650000.0</td>\n",
       "      <td>Inline-4</td>\n",
       "      <td>2-stroke</td>\n",
       "      <td>Manual</td>\n",
       "      <td>9.0</td>\n",
       "      <td>Oil-cooled</td>\n",
       "      <td>Suzuki GSX-R600</td>\n",
       "      <td>2020.0</td>\n",
       "    </tr>\n",
       "    <tr>\n",
       "      <th>9</th>\n",
       "      <td>Karachi</td>\n",
       "      <td>42000.0</td>\n",
       "      <td>245000.0</td>\n",
       "      <td>Single Cylinder</td>\n",
       "      <td>2-stroke</td>\n",
       "      <td>Manual</td>\n",
       "      <td>19.0</td>\n",
       "      <td>Liquid-cooled</td>\n",
       "      <td>United US 125</td>\n",
       "      <td>2019.0</td>\n",
       "    </tr>\n",
       "  </tbody>\n",
       "</table>\n",
       "</div>"
      ],
      "text/plain": [
       "   City in  Kilometers ran  Bike Prices      Engine Type    Stroke  \\\n",
       "0  Karachi         10500.0    5000000.0  Single Cylinder  2-stroke   \n",
       "1  Karachi         20000.0     400000.0         Inline-4  4-stroke   \n",
       "2  Karachi         12000.0     899000.0  Single Cylinder  4-stroke   \n",
       "3  Karachi          6400.0    9500000.0           V-Twin  4-stroke   \n",
       "4  Karachi          8000.0     422000.0           V-Twin  2-stroke   \n",
       "5  Karachi         11000.0    5000000.0         Inline-4  4-stroke   \n",
       "6  Karachi         24000.0    2850000.0    Twin Cylinder  4-stroke   \n",
       "7  Karachi         20000.0     220000.0  Single Cylinder  4-stroke   \n",
       "8  Karachi          4000.0     650000.0         Inline-4  2-stroke   \n",
       "9  Karachi         42000.0     245000.0  Single Cylinder  2-stroke   \n",
       "\n",
       "  Transmission Type  Fuel Capacity (L) Cooling System          Bike names  \\\n",
       "0            Manual               14.0  Liquid-cooled       Honda CB 150F   \n",
       "1         Automatic               12.0     Oil-cooled        Yamaha MT-15   \n",
       "2         Automatic               19.0     Air-cooled  Kawasaki Ninja 300   \n",
       "3         Automatic               15.0     Oil-cooled     Suzuki GSX-R600   \n",
       "4            Manual               12.0     Oil-cooled       United US 125   \n",
       "5            Manual               19.0     Air-cooled       Honda CB 150F   \n",
       "6         Automatic               12.0     Air-cooled        Yamaha MT-15   \n",
       "7         Automatic                8.0     Oil-cooled  Kawasaki Ninja 300   \n",
       "8            Manual                9.0     Oil-cooled     Suzuki GSX-R600   \n",
       "9            Manual               19.0  Liquid-cooled       United US 125   \n",
       "\n",
       "   Model Year  \n",
       "0      2016.0  \n",
       "1      2006.0  \n",
       "2      2019.0  \n",
       "3      2019.0  \n",
       "4      2022.0  \n",
       "5      2017.0  \n",
       "6      2011.0  \n",
       "7      2016.0  \n",
       "8      2020.0  \n",
       "9      2019.0  "
      ]
     },
     "execution_count": 4,
     "metadata": {},
     "output_type": "execute_result"
    }
   ],
   "source": [
    "df.head(10)"
   ]
  },
  {
   "cell_type": "code",
   "execution_count": 5,
   "id": "15126422",
   "metadata": {},
   "outputs": [
    {
     "data": {
      "application/vnd.microsoft.datawrangler.viewer.v0+json": {
       "columns": [
        {
         "name": "index",
         "rawType": "object",
         "type": "string"
        },
        {
         "name": "Kilometers ran",
         "rawType": "float64",
         "type": "float"
        },
        {
         "name": "Bike Prices",
         "rawType": "float64",
         "type": "float"
        },
        {
         "name": "Fuel Capacity (L)",
         "rawType": "float64",
         "type": "float"
        },
        {
         "name": "Model Year",
         "rawType": "float64",
         "type": "float"
        }
       ],
       "conversionMethod": "pd.DataFrame",
       "ref": "449122b1-f643-47d9-9c90-5a50b63f8ee8",
       "rows": [
        [
         "count",
         "998.0",
         "1000.0",
         "997.0",
         "1001.0"
        ],
        [
         "mean",
         "11396.06513026052",
         "575399.0",
         "13.530591775325979",
         "2019.0639360639361"
        ],
        [
         "std",
         "24352.948040134754",
         "714883.0642801622",
         "3.4809171330557933",
         "7.02807997193459"
        ],
        [
         "min",
         "0.0",
         "105000.0",
         "8.0",
         "1964.0"
        ],
        [
         "25%",
         "3500.0",
         "210000.0",
         "10.0",
         "2018.0"
        ],
        [
         "50%",
         "6000.0",
         "430000.0",
         "13.0",
         "2021.0"
        ],
        [
         "75%",
         "12000.0",
         "870000.0",
         "17.0",
         "2022.0"
        ],
        [
         "max",
         "500000.0",
         "9500000.0",
         "20.0",
         "2023.0"
        ]
       ],
       "shape": {
        "columns": 4,
        "rows": 8
       }
      },
      "text/html": [
       "<div>\n",
       "<style scoped>\n",
       "    .dataframe tbody tr th:only-of-type {\n",
       "        vertical-align: middle;\n",
       "    }\n",
       "\n",
       "    .dataframe tbody tr th {\n",
       "        vertical-align: top;\n",
       "    }\n",
       "\n",
       "    .dataframe thead th {\n",
       "        text-align: right;\n",
       "    }\n",
       "</style>\n",
       "<table border=\"1\" class=\"dataframe\">\n",
       "  <thead>\n",
       "    <tr style=\"text-align: right;\">\n",
       "      <th></th>\n",
       "      <th>Kilometers ran</th>\n",
       "      <th>Bike Prices</th>\n",
       "      <th>Fuel Capacity (L)</th>\n",
       "      <th>Model Year</th>\n",
       "    </tr>\n",
       "  </thead>\n",
       "  <tbody>\n",
       "    <tr>\n",
       "      <th>count</th>\n",
       "      <td>998.00000</td>\n",
       "      <td>1.000000e+03</td>\n",
       "      <td>997.000000</td>\n",
       "      <td>1001.000000</td>\n",
       "    </tr>\n",
       "    <tr>\n",
       "      <th>mean</th>\n",
       "      <td>11396.06513</td>\n",
       "      <td>5.753990e+05</td>\n",
       "      <td>13.530592</td>\n",
       "      <td>2019.063936</td>\n",
       "    </tr>\n",
       "    <tr>\n",
       "      <th>std</th>\n",
       "      <td>24352.94804</td>\n",
       "      <td>7.148831e+05</td>\n",
       "      <td>3.480917</td>\n",
       "      <td>7.028080</td>\n",
       "    </tr>\n",
       "    <tr>\n",
       "      <th>min</th>\n",
       "      <td>0.00000</td>\n",
       "      <td>1.050000e+05</td>\n",
       "      <td>8.000000</td>\n",
       "      <td>1964.000000</td>\n",
       "    </tr>\n",
       "    <tr>\n",
       "      <th>25%</th>\n",
       "      <td>3500.00000</td>\n",
       "      <td>2.100000e+05</td>\n",
       "      <td>10.000000</td>\n",
       "      <td>2018.000000</td>\n",
       "    </tr>\n",
       "    <tr>\n",
       "      <th>50%</th>\n",
       "      <td>6000.00000</td>\n",
       "      <td>4.300000e+05</td>\n",
       "      <td>13.000000</td>\n",
       "      <td>2021.000000</td>\n",
       "    </tr>\n",
       "    <tr>\n",
       "      <th>75%</th>\n",
       "      <td>12000.00000</td>\n",
       "      <td>8.700000e+05</td>\n",
       "      <td>17.000000</td>\n",
       "      <td>2022.000000</td>\n",
       "    </tr>\n",
       "    <tr>\n",
       "      <th>max</th>\n",
       "      <td>500000.00000</td>\n",
       "      <td>9.500000e+06</td>\n",
       "      <td>20.000000</td>\n",
       "      <td>2023.000000</td>\n",
       "    </tr>\n",
       "  </tbody>\n",
       "</table>\n",
       "</div>"
      ],
      "text/plain": [
       "       Kilometers ran   Bike Prices  Fuel Capacity (L)   Model Year\n",
       "count       998.00000  1.000000e+03         997.000000  1001.000000\n",
       "mean      11396.06513  5.753990e+05          13.530592  2019.063936\n",
       "std       24352.94804  7.148831e+05           3.480917     7.028080\n",
       "min           0.00000  1.050000e+05           8.000000  1964.000000\n",
       "25%        3500.00000  2.100000e+05          10.000000  2018.000000\n",
       "50%        6000.00000  4.300000e+05          13.000000  2021.000000\n",
       "75%       12000.00000  8.700000e+05          17.000000  2022.000000\n",
       "max      500000.00000  9.500000e+06          20.000000  2023.000000"
      ]
     },
     "execution_count": 5,
     "metadata": {},
     "output_type": "execute_result"
    }
   ],
   "source": [
    "df.describe()"
   ]
  },
  {
   "cell_type": "code",
   "execution_count": 6,
   "id": "d802709b",
   "metadata": {},
   "outputs": [
    {
     "data": {
      "text/plain": [
       "array(['Honda CB 150F', 'Yamaha MT-15', 'Kawasaki Ninja 300',\n",
       "       'Suzuki GSX-R600', 'United US 125', 'Super Power SP 70',\n",
       "       'Road Prince 110', 'Metro MR 70'], dtype=object)"
      ]
     },
     "execution_count": 6,
     "metadata": {},
     "output_type": "execute_result"
    }
   ],
   "source": [
    "# df[\"City in\"].unique()\n",
    "# df['Engine Type'].unique()\n",
    "# df[\"Model Year\"].unique()\n",
    "df[\"Bike names\"].unique()\n",
    "# df['Cooling System'].unique()"
   ]
  },
  {
   "cell_type": "code",
   "execution_count": 7,
   "id": "60703235",
   "metadata": {},
   "outputs": [
    {
     "data": {
      "text/plain": [
       "City in              1\n",
       "Kilometers ran       4\n",
       "Bike Prices          2\n",
       "Engine Type          0\n",
       "Stroke               1\n",
       "Transmission Type    0\n",
       "Fuel Capacity (L)    5\n",
       "Cooling System       0\n",
       "Bike names           0\n",
       "Model Year           1\n",
       "dtype: int64"
      ]
     },
     "execution_count": 7,
     "metadata": {},
     "output_type": "execute_result"
    }
   ],
   "source": [
    "df.isnull().sum()"
   ]
  },
  {
   "cell_type": "code",
   "execution_count": 8,
   "id": "b51b73ed",
   "metadata": {},
   "outputs": [
    {
     "data": {
      "text/plain": [
       "Index(['City in', 'Kilometers ran', 'Bike Prices', 'Engine Type', 'Stroke',\n",
       "       'Transmission Type', 'Fuel Capacity (L)', 'Cooling System',\n",
       "       'Bike names', 'Model Year'],\n",
       "      dtype='object')"
      ]
     },
     "execution_count": 8,
     "metadata": {},
     "output_type": "execute_result"
    }
   ],
   "source": [
    "df.columns"
   ]
  },
  {
   "cell_type": "code",
   "execution_count": 9,
   "id": "f85af9e7",
   "metadata": {},
   "outputs": [
    {
     "name": "stdout",
     "output_type": "stream",
     "text": [
      "City in\n",
      "Kilometers ran\n",
      "Bike Prices\n",
      "Engine Type\n",
      "Stroke\n",
      "Transmission Type\n",
      "Fuel Capacity (L)\n",
      "Cooling System\n",
      "Bike names\n",
      "Model Year\n"
     ]
    }
   ],
   "source": [
    "for col in df.columns:\n",
    "    print(col)"
   ]
  },
  {
   "cell_type": "code",
   "execution_count": 10,
   "id": "68ad8e91",
   "metadata": {},
   "outputs": [
    {
     "data": {
      "text/plain": [
       "City in              1001\n",
       "Kilometers ran        998\n",
       "Bike Prices          1000\n",
       "Engine Type          1002\n",
       "Stroke               1001\n",
       "Transmission Type    1002\n",
       "Fuel Capacity (L)     997\n",
       "Cooling System       1002\n",
       "Bike names           1002\n",
       "Model Year           1001\n",
       "dtype: int64"
      ]
     },
     "execution_count": 10,
     "metadata": {},
     "output_type": "execute_result"
    }
   ],
   "source": [
    "df.count()"
   ]
  },
  {
   "cell_type": "markdown",
   "id": "479d841c",
   "metadata": {},
   "source": [
    "Data preprocessing"
   ]
  },
  {
   "cell_type": "code",
   "execution_count": 11,
   "id": "da615efe",
   "metadata": {},
   "outputs": [
    {
     "name": "stdout",
     "output_type": "stream",
     "text": [
      "<class 'pandas.core.frame.DataFrame'>\n",
      "RangeIndex: 1002 entries, 0 to 1001\n",
      "Data columns (total 10 columns):\n",
      " #   Column             Non-Null Count  Dtype  \n",
      "---  ------             --------------  -----  \n",
      " 0   City in            1001 non-null   object \n",
      " 1   Kilometers ran     998 non-null    float64\n",
      " 2   Bike Prices        1000 non-null   float64\n",
      " 3   Engine Type        1002 non-null   object \n",
      " 4   Stroke             1001 non-null   object \n",
      " 5   Transmission Type  1002 non-null   object \n",
      " 6   Fuel Capacity (L)  997 non-null    float64\n",
      " 7   Cooling System     1002 non-null   object \n",
      " 8   Bike names         1002 non-null   object \n",
      " 9   Model Year         1001 non-null   float64\n",
      "dtypes: float64(4), object(6)\n",
      "memory usage: 78.4+ KB\n"
     ]
    }
   ],
   "source": [
    "df.info()"
   ]
  },
  {
   "cell_type": "code",
   "execution_count": 12,
   "id": "ce9cee0a",
   "metadata": {},
   "outputs": [
    {
     "data": {
      "text/plain": [
       "City in              1\n",
       "Kilometers ran       4\n",
       "Bike Prices          2\n",
       "Engine Type          0\n",
       "Stroke               1\n",
       "Transmission Type    0\n",
       "Fuel Capacity (L)    5\n",
       "Cooling System       0\n",
       "Bike names           0\n",
       "Model Year           1\n",
       "dtype: int64"
      ]
     },
     "execution_count": 12,
     "metadata": {},
     "output_type": "execute_result"
    }
   ],
   "source": [
    "df.isnull().sum()"
   ]
  },
  {
   "cell_type": "code",
   "execution_count": 13,
   "id": "ddcdcc8a",
   "metadata": {},
   "outputs": [],
   "source": [
    "def fillNaMean(cols):\n",
    "    for i in cols:\n",
    "        if df[i].dtype in ['float64', 'int64']:\n",
    "            df[i] = df[i].fillna(df[i].mean())\n",
    "        else:\n",
    "            print(f\"Column '{i}' is not numeric and will be skipped.\")\n",
    "\n",
    "columns = ['Kilometers ran', 'Bike Prices', 'Fuel Capacity (L)', 'Model Year']\n",
    "fillNaMean(columns)"
   ]
  },
  {
   "cell_type": "code",
   "execution_count": 14,
   "id": "c4fc80b1",
   "metadata": {},
   "outputs": [],
   "source": [
    "def fillNaMode(cols):\n",
    "    for i in cols:\n",
    "        df[i] = df[i].fillna(df[i].mode()[0])\n",
    "\n",
    "columns = ['City in','Stroke']\n",
    "fillNaMode(columns)"
   ]
  },
  {
   "cell_type": "code",
   "execution_count": 15,
   "id": "95e0a694",
   "metadata": {},
   "outputs": [
    {
     "name": "stdout",
     "output_type": "stream",
     "text": [
      "<class 'pandas.core.frame.DataFrame'>\n",
      "RangeIndex: 1002 entries, 0 to 1001\n",
      "Data columns (total 10 columns):\n",
      " #   Column             Non-Null Count  Dtype  \n",
      "---  ------             --------------  -----  \n",
      " 0   City in            1002 non-null   object \n",
      " 1   Kilometers ran     1002 non-null   float64\n",
      " 2   Bike Prices        1002 non-null   float64\n",
      " 3   Engine Type        1002 non-null   object \n",
      " 4   Stroke             1002 non-null   object \n",
      " 5   Transmission Type  1002 non-null   object \n",
      " 6   Fuel Capacity (L)  1002 non-null   float64\n",
      " 7   Cooling System     1002 non-null   object \n",
      " 8   Bike names         1002 non-null   object \n",
      " 9   Model Year         1002 non-null   float64\n",
      "dtypes: float64(4), object(6)\n",
      "memory usage: 78.4+ KB\n"
     ]
    }
   ],
   "source": [
    "df.info()"
   ]
  },
  {
   "cell_type": "code",
   "execution_count": 16,
   "id": "55960729",
   "metadata": {},
   "outputs": [
    {
     "data": {
      "text/plain": [
       "City in              0\n",
       "Kilometers ran       0\n",
       "Bike Prices          0\n",
       "Engine Type          0\n",
       "Stroke               0\n",
       "Transmission Type    0\n",
       "Fuel Capacity (L)    0\n",
       "Cooling System       0\n",
       "Bike names           0\n",
       "Model Year           0\n",
       "dtype: int64"
      ]
     },
     "execution_count": 16,
     "metadata": {},
     "output_type": "execute_result"
    }
   ],
   "source": [
    "df.isnull().sum()"
   ]
  },
  {
   "cell_type": "code",
   "execution_count": 17,
   "id": "8a5d9146",
   "metadata": {},
   "outputs": [],
   "source": [
    "df.drop('Transmission Type', axis=1, inplace=True)\n",
    "df.drop('Cooling System', axis=1, inplace=True)"
   ]
  },
  {
   "cell_type": "code",
   "execution_count": 18,
   "id": "a358e466",
   "metadata": {},
   "outputs": [
    {
     "name": "stdout",
     "output_type": "stream",
     "text": [
      "<class 'pandas.core.frame.DataFrame'>\n",
      "RangeIndex: 1002 entries, 0 to 1001\n",
      "Data columns (total 8 columns):\n",
      " #   Column             Non-Null Count  Dtype  \n",
      "---  ------             --------------  -----  \n",
      " 0   City in            1002 non-null   object \n",
      " 1   Kilometers ran     1002 non-null   float64\n",
      " 2   Bike Prices        1002 non-null   float64\n",
      " 3   Engine Type        1002 non-null   object \n",
      " 4   Stroke             1002 non-null   object \n",
      " 5   Fuel Capacity (L)  1002 non-null   float64\n",
      " 6   Bike names         1002 non-null   object \n",
      " 7   Model Year         1002 non-null   float64\n",
      "dtypes: float64(4), object(4)\n",
      "memory usage: 62.8+ KB\n"
     ]
    }
   ],
   "source": [
    "df.info()"
   ]
  },
  {
   "cell_type": "code",
   "execution_count": 19,
   "id": "85a5b614",
   "metadata": {},
   "outputs": [],
   "source": [
    "def changeFloattoInt64(cols):\n",
    "    for i in cols:\n",
    "        df[i] = df[i].astype('int64')\n",
    "\n",
    "columns = ['Kilometers ran', 'Bike Prices', 'Fuel Capacity (L)', 'Model Year']\n",
    "changeFloattoInt64(columns)"
   ]
  },
  {
   "cell_type": "code",
   "execution_count": 20,
   "id": "586ad54f",
   "metadata": {},
   "outputs": [
    {
     "name": "stdout",
     "output_type": "stream",
     "text": [
      "<class 'pandas.core.frame.DataFrame'>\n",
      "RangeIndex: 1002 entries, 0 to 1001\n",
      "Data columns (total 8 columns):\n",
      " #   Column             Non-Null Count  Dtype \n",
      "---  ------             --------------  ----- \n",
      " 0   City in            1002 non-null   object\n",
      " 1   Kilometers ran     1002 non-null   int64 \n",
      " 2   Bike Prices        1002 non-null   int64 \n",
      " 3   Engine Type        1002 non-null   object\n",
      " 4   Stroke             1002 non-null   object\n",
      " 5   Fuel Capacity (L)  1002 non-null   int64 \n",
      " 6   Bike names         1002 non-null   object\n",
      " 7   Model Year         1002 non-null   int64 \n",
      "dtypes: int64(4), object(4)\n",
      "memory usage: 62.8+ KB\n"
     ]
    }
   ],
   "source": [
    "df.info()"
   ]
  },
  {
   "cell_type": "code",
   "execution_count": 21,
   "id": "ca4c4d35",
   "metadata": {},
   "outputs": [],
   "source": [
    "df_clean=df.copy()"
   ]
  },
  {
   "cell_type": "code",
   "execution_count": 22,
   "id": "0c6d22c8",
   "metadata": {},
   "outputs": [],
   "source": [
    "def encodeCols(cols):\n",
    "    for i in cols:\n",
    "        temp = pd.DataFrame({i:df[i].unique()})\n",
    "        data_LE = LabelEncoder()\n",
    "        data_LE.fit(np.ravel(temp))\n",
    "        # data_LE.fit(temp)             # What is the difference between using \"np.ravel\" or without using \"np.ravel\"\n",
    "        df_clean[i] = data_LE.transform(df[i])\n",
    "\n",
    "columns = ['City in','Stroke','Bike names','Engine Type']\n",
    "encodeCols(columns)"
   ]
  },
  {
   "cell_type": "code",
   "execution_count": 23,
   "id": "0bafef02",
   "metadata": {},
   "outputs": [
    {
     "name": "stdout",
     "output_type": "stream",
     "text": [
      "<class 'pandas.core.frame.DataFrame'>\n",
      "RangeIndex: 1002 entries, 0 to 1001\n",
      "Data columns (total 8 columns):\n",
      " #   Column             Non-Null Count  Dtype\n",
      "---  ------             --------------  -----\n",
      " 0   City in            1002 non-null   int64\n",
      " 1   Kilometers ran     1002 non-null   int64\n",
      " 2   Bike Prices        1002 non-null   int64\n",
      " 3   Engine Type        1002 non-null   int64\n",
      " 4   Stroke             1002 non-null   int64\n",
      " 5   Fuel Capacity (L)  1002 non-null   int64\n",
      " 6   Bike names         1002 non-null   int64\n",
      " 7   Model Year         1002 non-null   int64\n",
      "dtypes: int64(8)\n",
      "memory usage: 62.8 KB\n"
     ]
    }
   ],
   "source": [
    "df_clean.info()"
   ]
  },
  {
   "cell_type": "code",
   "execution_count": 24,
   "id": "ac5229f7",
   "metadata": {},
   "outputs": [],
   "source": [
    "df_clean.to_csv(r'cleaned-data.csv', index=False, header=True)\n"
   ]
  },
  {
   "cell_type": "code",
   "execution_count": 25,
   "id": "708d2f6d",
   "metadata": {},
   "outputs": [
    {
     "data": {
      "text/plain": [
       "array([0, 1])"
      ]
     },
     "execution_count": 25,
     "metadata": {},
     "output_type": "execute_result"
    }
   ],
   "source": [
    "df_clean['Engine Type'].unique()\n",
    "# df_clean.head()\n",
    "df_clean['Stroke'].unique()"
   ]
  },
  {
   "cell_type": "code",
   "execution_count": 26,
   "id": "27a330e7",
   "metadata": {},
   "outputs": [
    {
     "data": {
      "application/vnd.microsoft.datawrangler.viewer.v0+json": {
       "columns": [
        {
         "name": "index",
         "rawType": "int64",
         "type": "integer"
        },
        {
         "name": "City in",
         "rawType": "int64",
         "type": "integer"
        },
        {
         "name": "Kilometers ran",
         "rawType": "int64",
         "type": "integer"
        },
        {
         "name": "Bike Prices",
         "rawType": "int64",
         "type": "integer"
        },
        {
         "name": "Engine Type",
         "rawType": "int64",
         "type": "integer"
        },
        {
         "name": "Stroke",
         "rawType": "int64",
         "type": "integer"
        },
        {
         "name": "Fuel Capacity (L)",
         "rawType": "int64",
         "type": "integer"
        },
        {
         "name": "Bike names",
         "rawType": "int64",
         "type": "integer"
        },
        {
         "name": "Model Year",
         "rawType": "int64",
         "type": "integer"
        }
       ],
       "conversionMethod": "pd.DataFrame",
       "ref": "e59dad1c-0eca-4375-bbfe-c268dfb92c74",
       "rows": [
        [
         "997",
         "7",
         "12000",
         "1100000",
         "0",
         "1",
         "16",
         "5",
         "2018"
        ],
        [
         "998",
         "0",
         "11396",
         "130000",
         "2",
         "1",
         "9",
         "6",
         "2023"
        ],
        [
         "999",
         "2",
         "11396",
         "105000",
         "2",
         "1",
         "9",
         "4",
         "2023"
        ],
        [
         "1000",
         "6",
         "2500",
         "120000",
         "2",
         "1",
         "10",
         "3",
         "2021"
        ],
        [
         "1001",
         "1",
         "1800",
         "110000",
         "2",
         "1",
         "9",
         "2",
         "2022"
        ]
       ],
       "shape": {
        "columns": 8,
        "rows": 5
       }
      },
      "text/html": [
       "<div>\n",
       "<style scoped>\n",
       "    .dataframe tbody tr th:only-of-type {\n",
       "        vertical-align: middle;\n",
       "    }\n",
       "\n",
       "    .dataframe tbody tr th {\n",
       "        vertical-align: top;\n",
       "    }\n",
       "\n",
       "    .dataframe thead th {\n",
       "        text-align: right;\n",
       "    }\n",
       "</style>\n",
       "<table border=\"1\" class=\"dataframe\">\n",
       "  <thead>\n",
       "    <tr style=\"text-align: right;\">\n",
       "      <th></th>\n",
       "      <th>City in</th>\n",
       "      <th>Kilometers ran</th>\n",
       "      <th>Bike Prices</th>\n",
       "      <th>Engine Type</th>\n",
       "      <th>Stroke</th>\n",
       "      <th>Fuel Capacity (L)</th>\n",
       "      <th>Bike names</th>\n",
       "      <th>Model Year</th>\n",
       "    </tr>\n",
       "  </thead>\n",
       "  <tbody>\n",
       "    <tr>\n",
       "      <th>997</th>\n",
       "      <td>7</td>\n",
       "      <td>12000</td>\n",
       "      <td>1100000</td>\n",
       "      <td>0</td>\n",
       "      <td>1</td>\n",
       "      <td>16</td>\n",
       "      <td>5</td>\n",
       "      <td>2018</td>\n",
       "    </tr>\n",
       "    <tr>\n",
       "      <th>998</th>\n",
       "      <td>0</td>\n",
       "      <td>11396</td>\n",
       "      <td>130000</td>\n",
       "      <td>2</td>\n",
       "      <td>1</td>\n",
       "      <td>9</td>\n",
       "      <td>6</td>\n",
       "      <td>2023</td>\n",
       "    </tr>\n",
       "    <tr>\n",
       "      <th>999</th>\n",
       "      <td>2</td>\n",
       "      <td>11396</td>\n",
       "      <td>105000</td>\n",
       "      <td>2</td>\n",
       "      <td>1</td>\n",
       "      <td>9</td>\n",
       "      <td>4</td>\n",
       "      <td>2023</td>\n",
       "    </tr>\n",
       "    <tr>\n",
       "      <th>1000</th>\n",
       "      <td>6</td>\n",
       "      <td>2500</td>\n",
       "      <td>120000</td>\n",
       "      <td>2</td>\n",
       "      <td>1</td>\n",
       "      <td>10</td>\n",
       "      <td>3</td>\n",
       "      <td>2021</td>\n",
       "    </tr>\n",
       "    <tr>\n",
       "      <th>1001</th>\n",
       "      <td>1</td>\n",
       "      <td>1800</td>\n",
       "      <td>110000</td>\n",
       "      <td>2</td>\n",
       "      <td>1</td>\n",
       "      <td>9</td>\n",
       "      <td>2</td>\n",
       "      <td>2022</td>\n",
       "    </tr>\n",
       "  </tbody>\n",
       "</table>\n",
       "</div>"
      ],
      "text/plain": [
       "      City in  Kilometers ran  Bike Prices  Engine Type  Stroke  \\\n",
       "997         7           12000      1100000            0       1   \n",
       "998         0           11396       130000            2       1   \n",
       "999         2           11396       105000            2       1   \n",
       "1000        6            2500       120000            2       1   \n",
       "1001        1            1800       110000            2       1   \n",
       "\n",
       "      Fuel Capacity (L)  Bike names  Model Year  \n",
       "997                  16           5        2018  \n",
       "998                   9           6        2023  \n",
       "999                   9           4        2023  \n",
       "1000                 10           3        2021  \n",
       "1001                  9           2        2022  "
      ]
     },
     "execution_count": 26,
     "metadata": {},
     "output_type": "execute_result"
    }
   ],
   "source": [
    "df_clean.tail()"
   ]
  },
  {
   "cell_type": "code",
   "execution_count": 27,
   "id": "687616e1",
   "metadata": {},
   "outputs": [
    {
     "data": {
      "text/plain": [
       "(1002, 8)"
      ]
     },
     "execution_count": 27,
     "metadata": {},
     "output_type": "execute_result"
    }
   ],
   "source": [
    "df_clean.shape"
   ]
  },
  {
   "cell_type": "markdown",
   "id": "295828e4",
   "metadata": {},
   "source": [
    "Data spliting"
   ]
  },
  {
   "cell_type": "code",
   "execution_count": 28,
   "id": "7edc4a4e",
   "metadata": {},
   "outputs": [],
   "source": [
    "trainX = df_clean[['Bike Prices', 'Engine Type', 'Stroke', 'City in', 'Kilometers ran', 'Model Year']]\n",
    "trainY = df_clean[['Bike names']]"
   ]
  },
  {
   "cell_type": "code",
   "execution_count": 29,
   "id": "15f7d884",
   "metadata": {},
   "outputs": [],
   "source": [
    "trainX, testX, trainY, testY = train_test_split(\n",
    "    df_clean[['Bike Prices', 'Engine Type', 'Stroke', 'City in', 'Kilometers ran','Model Year']],\n",
    "    df_clean[['Bike names']],\n",
    "    test_size=0.2,\n",
    "    shuffle=False\n",
    ")"
   ]
  },
  {
   "cell_type": "code",
   "execution_count": 30,
   "id": "51d81347",
   "metadata": {},
   "outputs": [
    {
     "data": {
      "application/vnd.microsoft.datawrangler.viewer.v0+json": {
       "columns": [
        {
         "name": "index",
         "rawType": "int64",
         "type": "integer"
        },
        {
         "name": "Bike Prices",
         "rawType": "int64",
         "type": "integer"
        },
        {
         "name": "Engine Type",
         "rawType": "int64",
         "type": "integer"
        },
        {
         "name": "Stroke",
         "rawType": "int64",
         "type": "integer"
        },
        {
         "name": "City in",
         "rawType": "int64",
         "type": "integer"
        },
        {
         "name": "Kilometers ran",
         "rawType": "int64",
         "type": "integer"
        },
        {
         "name": "Model Year",
         "rawType": "int64",
         "type": "integer"
        }
       ],
       "conversionMethod": "pd.DataFrame",
       "ref": "4ae1800a-03ba-4b45-b4a1-9d200c332115",
       "rows": [
        [
         "0",
         "5000000",
         "2",
         "0",
         "4",
         "10500",
         "2016"
        ],
        [
         "1",
         "400000",
         "0",
         "1",
         "4",
         "20000",
         "2006"
        ],
        [
         "2",
         "899000",
         "2",
         "1",
         "4",
         "12000",
         "2019"
        ],
        [
         "3",
         "9500000",
         "4",
         "1",
         "4",
         "6400",
         "2019"
        ],
        [
         "4",
         "422000",
         "4",
         "0",
         "4",
         "8000",
         "2022"
        ]
       ],
       "shape": {
        "columns": 6,
        "rows": 5
       }
      },
      "text/html": [
       "<div>\n",
       "<style scoped>\n",
       "    .dataframe tbody tr th:only-of-type {\n",
       "        vertical-align: middle;\n",
       "    }\n",
       "\n",
       "    .dataframe tbody tr th {\n",
       "        vertical-align: top;\n",
       "    }\n",
       "\n",
       "    .dataframe thead th {\n",
       "        text-align: right;\n",
       "    }\n",
       "</style>\n",
       "<table border=\"1\" class=\"dataframe\">\n",
       "  <thead>\n",
       "    <tr style=\"text-align: right;\">\n",
       "      <th></th>\n",
       "      <th>Bike Prices</th>\n",
       "      <th>Engine Type</th>\n",
       "      <th>Stroke</th>\n",
       "      <th>City in</th>\n",
       "      <th>Kilometers ran</th>\n",
       "      <th>Model Year</th>\n",
       "    </tr>\n",
       "  </thead>\n",
       "  <tbody>\n",
       "    <tr>\n",
       "      <th>0</th>\n",
       "      <td>5000000</td>\n",
       "      <td>2</td>\n",
       "      <td>0</td>\n",
       "      <td>4</td>\n",
       "      <td>10500</td>\n",
       "      <td>2016</td>\n",
       "    </tr>\n",
       "    <tr>\n",
       "      <th>1</th>\n",
       "      <td>400000</td>\n",
       "      <td>0</td>\n",
       "      <td>1</td>\n",
       "      <td>4</td>\n",
       "      <td>20000</td>\n",
       "      <td>2006</td>\n",
       "    </tr>\n",
       "    <tr>\n",
       "      <th>2</th>\n",
       "      <td>899000</td>\n",
       "      <td>2</td>\n",
       "      <td>1</td>\n",
       "      <td>4</td>\n",
       "      <td>12000</td>\n",
       "      <td>2019</td>\n",
       "    </tr>\n",
       "    <tr>\n",
       "      <th>3</th>\n",
       "      <td>9500000</td>\n",
       "      <td>4</td>\n",
       "      <td>1</td>\n",
       "      <td>4</td>\n",
       "      <td>6400</td>\n",
       "      <td>2019</td>\n",
       "    </tr>\n",
       "    <tr>\n",
       "      <th>4</th>\n",
       "      <td>422000</td>\n",
       "      <td>4</td>\n",
       "      <td>0</td>\n",
       "      <td>4</td>\n",
       "      <td>8000</td>\n",
       "      <td>2022</td>\n",
       "    </tr>\n",
       "  </tbody>\n",
       "</table>\n",
       "</div>"
      ],
      "text/plain": [
       "   Bike Prices  Engine Type  Stroke  City in  Kilometers ran  Model Year\n",
       "0      5000000            2       0        4           10500        2016\n",
       "1       400000            0       1        4           20000        2006\n",
       "2       899000            2       1        4           12000        2019\n",
       "3      9500000            4       1        4            6400        2019\n",
       "4       422000            4       0        4            8000        2022"
      ]
     },
     "execution_count": 30,
     "metadata": {},
     "output_type": "execute_result"
    }
   ],
   "source": [
    "trainX.head(5)"
   ]
  },
  {
   "cell_type": "code",
   "execution_count": 31,
   "id": "6148594b",
   "metadata": {},
   "outputs": [
    {
     "data": {
      "application/vnd.microsoft.datawrangler.viewer.v0+json": {
       "columns": [
        {
         "name": "index",
         "rawType": "int64",
         "type": "integer"
        },
        {
         "name": "Bike names",
         "rawType": "int64",
         "type": "integer"
        }
       ],
       "conversionMethod": "pd.DataFrame",
       "ref": "20d4d5b4-c85c-46b5-ba30-132663d55480",
       "rows": [
        [
         "0",
         "0"
        ],
        [
         "1",
         "7"
        ],
        [
         "2",
         "1"
        ],
        [
         "3",
         "5"
        ],
        [
         "4",
         "6"
        ]
       ],
       "shape": {
        "columns": 1,
        "rows": 5
       }
      },
      "text/html": [
       "<div>\n",
       "<style scoped>\n",
       "    .dataframe tbody tr th:only-of-type {\n",
       "        vertical-align: middle;\n",
       "    }\n",
       "\n",
       "    .dataframe tbody tr th {\n",
       "        vertical-align: top;\n",
       "    }\n",
       "\n",
       "    .dataframe thead th {\n",
       "        text-align: right;\n",
       "    }\n",
       "</style>\n",
       "<table border=\"1\" class=\"dataframe\">\n",
       "  <thead>\n",
       "    <tr style=\"text-align: right;\">\n",
       "      <th></th>\n",
       "      <th>Bike names</th>\n",
       "    </tr>\n",
       "  </thead>\n",
       "  <tbody>\n",
       "    <tr>\n",
       "      <th>0</th>\n",
       "      <td>0</td>\n",
       "    </tr>\n",
       "    <tr>\n",
       "      <th>1</th>\n",
       "      <td>7</td>\n",
       "    </tr>\n",
       "    <tr>\n",
       "      <th>2</th>\n",
       "      <td>1</td>\n",
       "    </tr>\n",
       "    <tr>\n",
       "      <th>3</th>\n",
       "      <td>5</td>\n",
       "    </tr>\n",
       "    <tr>\n",
       "      <th>4</th>\n",
       "      <td>6</td>\n",
       "    </tr>\n",
       "  </tbody>\n",
       "</table>\n",
       "</div>"
      ],
      "text/plain": [
       "   Bike names\n",
       "0           0\n",
       "1           7\n",
       "2           1\n",
       "3           5\n",
       "4           6"
      ]
     },
     "execution_count": 31,
     "metadata": {},
     "output_type": "execute_result"
    }
   ],
   "source": [
    "trainY.head(5)"
   ]
  },
  {
   "cell_type": "code",
   "execution_count": 32,
   "id": "a7894186",
   "metadata": {},
   "outputs": [
    {
     "name": "stdout",
     "output_type": "stream",
     "text": [
      "TrainX: (801, 6)\n",
      "TrainY: (801, 1)\n",
      "TestX: (201, 6)\n",
      "TestY: (201, 1)\n"
     ]
    }
   ],
   "source": [
    "print(\"TrainX:\",trainX.shape)\n",
    "print(\"TrainY:\",trainY.shape)\n",
    "print(\"TestX:\",testX.shape)\n",
    "print(\"TestY:\",testY.shape)"
   ]
  },
  {
   "cell_type": "markdown",
   "id": "c1084d58",
   "metadata": {},
   "source": [
    "Trainning"
   ]
  },
  {
   "cell_type": "code",
   "execution_count": 33,
   "id": "b954207e",
   "metadata": {},
   "outputs": [],
   "source": [
    "import pickle\n",
    "from sklearn.svm import SVC"
   ]
  },
  {
   "cell_type": "code",
   "execution_count": 34,
   "id": "c586cd31",
   "metadata": {},
   "outputs": [
    {
     "name": "stdout",
     "output_type": "stream",
     "text": [
      "SVC(probability=True)\n"
     ]
    }
   ],
   "source": [
    "from sklearn.svm import SVC\n",
    "\n",
    "# Enable probability estimates\n",
    "model_SVC = SVC(probability=True)\n",
    "model_SVC.fit(trainX, trainY.values.ravel())  # .values.ravel() if trainY is a DataFrame\n",
    "\n",
    "print(model_SVC)"
   ]
  },
  {
   "cell_type": "code",
   "execution_count": 35,
   "id": "ec120ffd",
   "metadata": {},
   "outputs": [],
   "source": [
    "pickle.dump(model_SVC, open('model_SVC.pkl', 'wb'))"
   ]
  },
  {
   "cell_type": "code",
   "execution_count": 36,
   "id": "c008b311",
   "metadata": {},
   "outputs": [],
   "source": [
    "model_SVC = pickle.load(open('model_SVC.pkl', 'rb'))"
   ]
  },
  {
   "cell_type": "code",
   "execution_count": 37,
   "id": "af95458b",
   "metadata": {},
   "outputs": [],
   "source": [
    "predictions = model_SVC.predict(testX)"
   ]
  },
  {
   "cell_type": "code",
   "execution_count": 38,
   "id": "650c9740",
   "metadata": {},
   "outputs": [
    {
     "name": "stdout",
     "output_type": "stream",
     "text": [
      "[1 5 6 7 7 1 5 6 7 7 1 5 6 7 7 1 5 6 7 7 1 5 6 7 7 1 5 6 7 7 1 5 6 7 7 1 5\n",
      " 6 7 7 1 5 6 7 7 1 5 6 7 7 1 5 6 7 7 1 5 6 7 7 1 5 6 7 7 1 5 6 7 7 1 5 6 7\n",
      " 7 1 5 6 7 7 1 5 6 7 7 1 5 6 7 7 1 5 6 7 7 1 5 6 7 7 1 5 6 7 7 1 5 6 7 7 1\n",
      " 5 6 7 7 1 5 6 7 7 1 5 6 7 7 1 5 6 7 7 1 5 6 7 7 1 5 6 7 7 1 5 6 7 7 1 5 6\n",
      " 7 7 1 5 6 7 7 1 5 6 7 7 1 5 6 7 7 1 5 6 7 7 1 5 6 7 7 1 5 6 7 7 1 5 6 7 7\n",
      " 1 5 6 7 7 1 5 6 7 7 1 5 6 6 6 6]\n"
     ]
    }
   ],
   "source": [
    "print(predictions)"
   ]
  },
  {
   "cell_type": "code",
   "execution_count": 39,
   "id": "ee4015d0",
   "metadata": {},
   "outputs": [
    {
     "name": "stdout",
     "output_type": "stream",
     "text": [
      "-- Model Accuracy: 0.791\n"
     ]
    }
   ],
   "source": [
    "from sklearn.metrics import accuracy_score\n",
    "svc_accuracy = accuracy_score(testY,predictions)\n",
    "\n",
    "print(\"-- Model Accuracy: \", end=\"\")\n",
    "print(round(svc_accuracy,3))"
   ]
  },
  {
   "cell_type": "code",
   "execution_count": 40,
   "id": "7eb4e5dc",
   "metadata": {},
   "outputs": [
    {
     "name": "stdout",
     "output_type": "stream",
     "text": [
      "79.1 %\n"
     ]
    }
   ],
   "source": [
    "print(round(svc_accuracy * 100, 1), \"%\")"
   ]
  },
  {
   "cell_type": "code",
   "execution_count": null,
   "id": "86659467",
   "metadata": {},
   "outputs": [],
   "source": []
  }
 ],
 "metadata": {
  "kernelspec": {
   "display_name": "Python 3",
   "language": "python",
   "name": "python3"
  },
  "language_info": {
   "codemirror_mode": {
    "name": "ipython",
    "version": 3
   },
   "file_extension": ".py",
   "mimetype": "text/x-python",
   "name": "python",
   "nbconvert_exporter": "python",
   "pygments_lexer": "ipython3",
   "version": "3.12.10"
  }
 },
 "nbformat": 4,
 "nbformat_minor": 5
}
