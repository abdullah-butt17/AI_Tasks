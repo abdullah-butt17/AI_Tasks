{
 "cells": [
  {
   "cell_type": "code",
   "execution_count": 1,
   "metadata": {},
   "outputs": [
    {
     "name": "stdout",
     "output_type": "stream",
     "text": [
      "Depth first search: \n",
      "A B D E C "
     ]
    }
   ],
   "source": [
    "graph = {\n",
    "    'A':['B','C'],\n",
    "    'B':['D','E'],\n",
    "    'C':[],\n",
    "    'D':[],\n",
    "    'E':[]\n",
    "}\n",
    "\n",
    "visited=[]\n",
    "\n",
    "def dfs(graph,node):\n",
    "    if node not in visited:\n",
    "        print(node, end=' ')\n",
    "        visited.append(node)\n",
    "        for neighbour in graph[node]:\n",
    "            dfs(graph,neighbour)\n",
    "print(\"Depth first search: \")\n",
    "dfs(graph,'A')"
   ]
  },
  {
   "cell_type": "markdown",
   "metadata": {},
   "source": [
    "Inorder, Preorder, and Postorder are tree traversal techniques used in Depth-First Search (DFS) for trees.\n",
    "\n",
    "    Preorder (Root → Left → Right): Visit the root Node, then the left Node, and then the right Node.\n",
    "    Inorder (Left → Root → Right): Visit the left Node first, then the root Node, and finally the right Node.\n",
    "    Postorder (Left → Right → Root): Visit the left Node first, then the right Node, and finally the root Node."
   ]
  },
  {
   "cell_type": "markdown",
   "metadata": {},
   "source": []
  }
 ],
 "metadata": {
  "kernelspec": {
   "display_name": "Python 3",
   "language": "python",
   "name": "python3"
  },
  "language_info": {
   "codemirror_mode": {
    "name": "ipython",
    "version": 3
   },
   "file_extension": ".py",
   "mimetype": "text/x-python",
   "name": "python",
   "nbconvert_exporter": "python",
   "pygments_lexer": "ipython3",
   "version": "3.12.2"
  }
 },
 "nbformat": 4,
 "nbformat_minor": 2
}
